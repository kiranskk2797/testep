{
 "cells": [
  {
   "cell_type": "code",
   "execution_count": 1,
   "id": "c53ddcf3",
   "metadata": {},
   "outputs": [
    {
     "data": {
      "text/plain": [
       "[12, 13, 14, 14, 15, 16]"
      ]
     },
     "execution_count": 1,
     "metadata": {},
     "output_type": "execute_result"
    }
   ],
   "source": [
    "#1\n",
    "A = [12,13,14,14,15,16]\n",
    "A"
   ]
  },
  {
   "cell_type": "code",
   "execution_count": 2,
   "id": "6336019d",
   "metadata": {},
   "outputs": [],
   "source": [
    "stRecord =[\"Raman\",\"A-36\",[56,98,99,72,69],78.8]"
   ]
  },
  {
   "cell_type": "code",
   "execution_count": 3,
   "id": "05223919",
   "metadata": {},
   "outputs": [
    {
     "data": {
      "text/plain": [
       "78.8"
      ]
     },
     "execution_count": 3,
     "metadata": {},
     "output_type": "execute_result"
    }
   ],
   "source": [
    "# a percentage of student\n",
    "stRecord[3]"
   ]
  },
  {
   "cell_type": "code",
   "execution_count": 4,
   "id": "0831155c",
   "metadata": {},
   "outputs": [
    {
     "data": {
      "text/plain": [
       "69"
      ]
     },
     "execution_count": 4,
     "metadata": {},
     "output_type": "execute_result"
    }
   ],
   "source": [
    "# b marks in the fifth subject\n",
    "stRecord[2][4]"
   ]
  },
  {
   "cell_type": "code",
   "execution_count": 5,
   "id": "9a90d230",
   "metadata": {},
   "outputs": [
    {
     "data": {
      "text/plain": [
       "99"
      ]
     },
     "execution_count": 5,
     "metadata": {},
     "output_type": "execute_result"
    }
   ],
   "source": [
    "#c max marks\n",
    "import pandas as pd\n",
    "max(stRecord[2])"
   ]
  },
  {
   "cell_type": "code",
   "execution_count": 6,
   "id": "74c5823d",
   "metadata": {},
   "outputs": [
    {
     "data": {
      "text/plain": [
       "'A-36'"
      ]
     },
     "execution_count": 6,
     "metadata": {},
     "output_type": "execute_result"
    }
   ],
   "source": [
    "#d roll number of the student\n",
    "stRecord[1]"
   ]
  },
  {
   "cell_type": "code",
   "execution_count": 7,
   "id": "328895bd",
   "metadata": {},
   "outputs": [
    {
     "data": {
      "text/plain": [
       "'Ajith'"
      ]
     },
     "execution_count": 7,
     "metadata": {},
     "output_type": "execute_result"
    }
   ],
   "source": [
    "#e change the name\n",
    "stRecord[0]=\"Ajith\"\n",
    "stRecord[0]"
   ]
  },
  {
   "cell_type": "code",
   "execution_count": 8,
   "id": "98c06da0",
   "metadata": {},
   "outputs": [
    {
     "name": "stdout",
     "output_type": "stream",
     "text": [
      "[0, 1, 2, 3, 4, 5]\n"
     ]
    }
   ],
   "source": [
    "a = [0,1,2,3,4,1,2,3,5]\n",
    "print(list(set(a)))"
   ]
  },
  {
   "cell_type": "code",
   "execution_count": 9,
   "id": "8b1db26a",
   "metadata": {},
   "outputs": [
    {
     "data": {
      "text/plain": [
       "[0, 1, 2, 3, 4, 5]"
      ]
     },
     "execution_count": 9,
     "metadata": {},
     "output_type": "execute_result"
    }
   ],
   "source": [
    "pd.Series(a).drop_duplicates().to_list()"
   ]
  }
 ],
 "metadata": {
  "kernelspec": {
   "display_name": "Python 3 (ipykernel)",
   "language": "python",
   "name": "python3"
  },
  "language_info": {
   "codemirror_mode": {
    "name": "ipython",
    "version": 3
   },
   "file_extension": ".py",
   "mimetype": "text/x-python",
   "name": "python",
   "nbconvert_exporter": "python",
   "pygments_lexer": "ipython3",
   "version": "3.9.12"
  }
 },
 "nbformat": 4,
 "nbformat_minor": 5
}
